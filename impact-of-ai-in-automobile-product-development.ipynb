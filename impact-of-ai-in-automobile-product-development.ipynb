{
 "cells": [
  {
   "cell_type": "markdown",
   "metadata": {},
   "source": [
    "# 1. Importing Packages and Collecting Data\n"
   ]
  },
  {
   "cell_type": "code",
   "execution_count": 1,
   "metadata": {
    "execution": {
     "iopub.execute_input": "2022-08-15T21:03:36.362399Z",
     "iopub.status.busy": "2022-08-15T21:03:36.361837Z",
     "iopub.status.idle": "2022-08-15T21:03:38.510290Z",
     "shell.execute_reply": "2022-08-15T21:03:38.509088Z",
     "shell.execute_reply.started": "2022-08-15T21:03:36.362343Z"
    }
   },
   "outputs": [],
   "source": [
    "'''Ignore deprecation and future, and user warnings.'''\n",
    "import warnings as wrn\n",
    "wrn.filterwarnings('ignore', category = DeprecationWarning) \n",
    "wrn.filterwarnings('ignore', category = FutureWarning) \n",
    "wrn.filterwarnings('ignore', category = UserWarning) \n",
    "\n",
    "'''Import basic modules.'''\n",
    "import pandas as pd\n",
    "import numpy as np\n",
    "from scipy import stats\n",
    "\n",
    "'''Customize visualization\n",
    "Seaborn and matplotlib visualization.'''\n",
    "import matplotlib.pyplot as plt\n",
    "import seaborn as sns\n",
    "sns.set_style(\"whitegrid\")\n",
    "%matplotlib inline\n",
    "\n",
    "'''Plotly visualization .'''\n",
    "import plotly.offline as py\n",
    "from plotly.offline import iplot, init_notebook_mode\n",
    "import plotly.graph_objs as go\n",
    "init_notebook_mode(connected = True) # Required to use plotly offline in jupyter notebook\n",
    "\n",
    "'''Display markdown formatted output like bold, italic bold etc.'''\n",
    "from IPython.display import Markdown\n",
    "def bold(string):\n",
    "    display(Markdown(string))"
   ]
  },
  {
   "cell_type": "code",
   "execution_count": 2,
   "metadata": {
    "execution": {
     "iopub.execute_input": "2022-08-15T21:03:38.513439Z",
     "iopub.status.busy": "2022-08-15T21:03:38.513061Z",
     "iopub.status.idle": "2022-08-15T21:03:48.732976Z",
     "shell.execute_reply": "2022-08-15T21:03:48.732140Z",
     "shell.execute_reply.started": "2022-08-15T21:03:38.513373Z"
    }
   },
   "outputs": [],
   "source": [
    "'''Read in export and import data from CSV file'''\n",
    "df_train = pd.read_csv('../input/bigquery-geotab-intersection-congestion/train.csv')\n",
    "df_test = pd.read_csv('../input/bigquery-geotab-intersection-congestion/test.csv')"
   ]
  },
  {
   "cell_type": "markdown",
   "metadata": {},
   "source": [
    "# 2. Variable Description, Identification, and Correction"
   ]
  },
  {
   "cell_type": "code",
   "execution_count": 3,
   "metadata": {
    "execution": {
     "iopub.execute_input": "2022-08-15T21:03:48.735547Z",
     "iopub.status.busy": "2022-08-15T21:03:48.734806Z",
     "iopub.status.idle": "2022-08-15T21:03:48.797716Z",
     "shell.execute_reply": "2022-08-15T21:03:48.796858Z",
     "shell.execute_reply.started": "2022-08-15T21:03:48.735481Z"
    }
   },
   "outputs": [],
   "source": [
    "'''Train and Test data at a glance.'''\n",
    "bold('**Preview of Train Data:**')\n",
    "display(df_train.head())\n",
    "bold('**Preview of Test Data:**')\n",
    "display(df_test.head())"
   ]
  },
  {
   "cell_type": "code",
   "execution_count": 4,
   "metadata": {
    "execution": {
     "iopub.execute_input": "2022-08-15T21:03:48.799245Z",
     "iopub.status.busy": "2022-08-15T21:03:48.798988Z",
     "iopub.status.idle": "2022-08-15T21:03:48.807748Z",
     "shell.execute_reply": "2022-08-15T21:03:48.806347Z",
     "shell.execute_reply.started": "2022-08-15T21:03:48.799201Z"
    }
   },
   "outputs": [],
   "source": [
    "'''Dimension of train and test data'''\n",
    "bold('**Shape of our train and test data**')\n",
    "print('Dimension of train:',df_train.shape) \n",
    "print('Dimension of test:',df_test.shape)"
   ]
  },
  {
   "cell_type": "code",
   "execution_count": 5,
   "metadata": {
    "execution": {
     "iopub.execute_input": "2022-08-15T21:03:48.814254Z",
     "iopub.status.busy": "2022-08-15T21:03:48.813905Z",
     "iopub.status.idle": "2022-08-15T21:03:48.821916Z",
     "shell.execute_reply": "2022-08-15T21:03:48.820909Z",
     "shell.execute_reply.started": "2022-08-15T21:03:48.814192Z"
    }
   },
   "outputs": [],
   "source": [
    "'''Funtion for Variable Description'''\n",
    "def description(df):\n",
    "    summary = pd.DataFrame(df.dtypes,columns=['dtypes'])\n",
    "    summary = summary.reset_index()\n",
    "    summary['Name'] = summary['index']\n",
    "    summary = summary[['Name','dtypes']]\n",
    "    summary['Missing'] = df.isnull().sum().values    \n",
    "    summary['Uniques'] = df.nunique().values\n",
    "    summary['First Value'] = df.iloc[0].values\n",
    "    summary['Second Value'] = df.iloc[1].values\n",
    "    summary['Third Value'] = df.iloc[2].values\n",
    "    return summary"
   ]
  },
  {
   "cell_type": "code",
   "execution_count": 6,
   "metadata": {
    "execution": {
     "iopub.execute_input": "2022-08-15T21:03:48.825501Z",
     "iopub.status.busy": "2022-08-15T21:03:48.825125Z",
     "iopub.status.idle": "2022-08-15T21:03:56.485746Z",
     "shell.execute_reply": "2022-08-15T21:03:56.484906Z",
     "shell.execute_reply.started": "2022-08-15T21:03:48.825409Z"
    }
   },
   "outputs": [],
   "source": [
    "bold('**Variable Description of  train Data:**')\n",
    "display(description(df_train))\n",
    "bold('**Variable Description of  test Data:**')\n",
    "display(description(df_test))"
   ]
  },
  {
   "cell_type": "markdown",
   "metadata": {},
   "source": [
    "# 3. Exploratory Data Analysis"
   ]
  },
  {
   "cell_type": "markdown",
   "metadata": {},
   "source": [
    "## 3.1 Intersection ID"
   ]
  },
  {
   "cell_type": "code",
   "execution_count": 7,
   "metadata": {
    "execution": {
     "iopub.execute_input": "2022-08-15T21:03:56.487386Z",
     "iopub.status.busy": "2022-08-15T21:03:56.486954Z",
     "iopub.status.idle": "2022-08-15T21:03:57.128593Z",
     "shell.execute_reply": "2022-08-15T21:03:57.127721Z",
     "shell.execute_reply.started": "2022-08-15T21:03:56.487342Z"
    }
   },
   "outputs": [],
   "source": [
    "'''Visulization of IntersectionID'''\n",
    "plt.figure(figsize=(15,6))\n",
    "df_train.IntersectionId.value_counts()[:50].plot(kind='bar', color = 'teal')\n",
    "plt.xlabel(\"Intersection Number\", fontsize=18)\n",
    "plt.ylabel(\"Count\", fontsize=18)\n",
    "plt.title(\"TOP 50 most commmon IntersectionID's \", fontsize=22)\n",
    "plt.show()"
   ]
  },
  {
   "cell_type": "markdown",
   "metadata": {},
   "source": [
    "## 3.2 Entry/Exit Street Names"
   ]
  },
  {
   "cell_type": "code",
   "execution_count": 8,
   "metadata": {
    "execution": {
     "iopub.execute_input": "2022-08-15T21:03:57.130670Z",
     "iopub.status.busy": "2022-08-15T21:03:57.130359Z",
     "iopub.status.idle": "2022-08-15T21:03:58.921035Z",
     "shell.execute_reply": "2022-08-15T21:03:58.920287Z",
     "shell.execute_reply.started": "2022-08-15T21:03:57.130612Z"
    }
   },
   "outputs": [],
   "source": [
    "'''Visulization of Entry/Exit StreetNames'''\n",
    "plt.figure(figsize=(15,6))\n",
    "df_train['EntryStreetName'].value_counts()[:50].plot(kind='bar', color = 'darkred')\n",
    "plt.xlabel(\"Entry Street Names\", fontsize=18)\n",
    "plt.ylabel(\"Count\", fontsize=18)\n",
    "plt.title(\"TOP 50 most Entry Street Names \", fontsize=22)\n",
    "plt.show()\n",
    "\n",
    "plt.figure(figsize=(15,6))\n",
    "df_train['ExitStreetName'].value_counts()[:50].plot(kind='bar', color = 'darkgreen')\n",
    "plt.xlabel(\"Exit Street Names\", fontsize=18)\n",
    "plt.ylabel(\"Count\", fontsize=18)\n",
    "plt.title(\"TOP 50 most Exit Street Names \", fontsize=22)\n",
    "plt.show()"
   ]
  },
  {
   "cell_type": "code",
   "execution_count": 9,
   "metadata": {
    "execution": {
     "iopub.execute_input": "2022-08-15T21:03:58.922508Z",
     "iopub.status.busy": "2022-08-15T21:03:58.922143Z",
     "iopub.status.idle": "2022-08-15T21:03:59.960582Z",
     "shell.execute_reply": "2022-08-15T21:03:59.959869Z",
     "shell.execute_reply.started": "2022-08-15T21:03:58.922467Z"
    }
   },
   "outputs": [],
   "source": [
    "'''Visulization of Path'''\n",
    "plt.figure(figsize=(15,6))\n",
    "df_train.Path.value_counts()[:50].plot(kind='bar', color = 'teal')\n",
    "plt.xlabel(\"Path\", fontsize=18)\n",
    "plt.ylabel(\"Count\", fontsize=18)\n",
    "plt.title(\"TOP 50 most commmon Paths\", fontsize=22)\n",
    "plt.show()"
   ]
  },
  {
   "cell_type": "markdown",
   "metadata": {},
   "source": [
    "## 3.3 Path"
   ]
  },
  {
   "cell_type": "markdown",
   "metadata": {},
   "source": [
    "* The most common path is North Broad Street_N_North Broad Street_N \n",
    "![](https://www.google.com/maps/vt/data=MWTnQbznJmgQc1dK9zCSLTWU57GXsKLQZdCtJkcTtx32-iDaKYZkXEOKPnBlEbEwZQBQFWHr9f4dvV5rZwSBFGBTbKTtm8_0deCBMUj2viNEif81m4boySADz5YLfdkwgqpz_U9TSBsZbNa9lyUowfNhDFoa65PDHXL13kK8mIK_4K6ZN7l5z5P-2PklT5-64QKwoOIuyYaAk2I1xcMbtmD7m3WqGgiPTQo0ZY9i0Qhk-y1qcksSqQ)"
   ]
  },
  {
   "cell_type": "markdown",
   "metadata": {},
   "source": [
    "## 3.4 Entry/Exit Heading"
   ]
  },
  {
   "cell_type": "code",
   "execution_count": 10,
   "metadata": {
    "execution": {
     "iopub.execute_input": "2022-08-15T21:03:59.962197Z",
     "iopub.status.busy": "2022-08-15T21:03:59.961764Z",
     "iopub.status.idle": "2022-08-15T21:04:00.757971Z",
     "shell.execute_reply": "2022-08-15T21:04:00.756837Z",
     "shell.execute_reply.started": "2022-08-15T21:03:59.962146Z"
    }
   },
   "outputs": [],
   "source": [
    "sns.set_style(\"dark\")\n",
    "fig, ax = plt.subplots(2,1, figsize=[15, 12])\n",
    "\n",
    "sns.countplot(data = df_train, x = 'EntryHeading', ax = ax[0], palette = 'YlOrRd_r')\n",
    "ax[0].set_title('Count plot of Entry Heading', fontsize = 22)\n",
    "ax[0].set_xlabel('Entry Heady', fontsize = 18)\n",
    "\n",
    "sns.countplot(data = df_train, x = 'ExitHeading', ax = ax[1], palette = 'YlGnBu')\n",
    "ax[1].set_title('Count plot of Exit Heading', fontsize = 22)\n",
    "ax[1].set_xlabel('Exit Heady', fontsize = 18)\n",
    "\n",
    "plt.subplots_adjust(hspace = 0.3)\n",
    "plt.show()"
   ]
  },
  {
   "cell_type": "markdown",
   "metadata": {},
   "source": [
    "## 3.5 City and Time features\n",
    "\n",
    "I will analyse city and time feature together to get clear picture about the data and its distribution."
   ]
  },
  {
   "cell_type": "code",
   "execution_count": 11,
   "metadata": {
    "execution": {
     "iopub.execute_input": "2022-08-15T21:04:00.760856Z",
     "iopub.status.busy": "2022-08-15T21:04:00.760252Z",
     "iopub.status.idle": "2022-08-15T21:04:01.136684Z",
     "shell.execute_reply": "2022-08-15T21:04:01.135846Z",
     "shell.execute_reply.started": "2022-08-15T21:04:00.760603Z"
    }
   },
   "outputs": [],
   "source": [
    "total = len(df_train)\n",
    "plt.figure(figsize=(15,6))\n",
    "sns.set_style(\"white\")\n",
    "\n",
    "ax = sns.countplot(x = \"City\", data = df_train, palette = 'Dark2')\n",
    "ax.set_title(\"City Count Distribution\", fontsize=20)\n",
    "ax.set_ylabel(\"Count\",fontsize= 17)\n",
    "ax.set_xlabel(\"City Names\", fontsize=17)\n",
    "sizes=[]\n",
    "for p in ax.patches:\n",
    "    height = p.get_height()\n",
    "    sizes.append(height)\n",
    "    ax.text(p.get_x()+p.get_width()/2.,\n",
    "            height + 3,\n",
    "            '{:1.2f}%'.format(height/total*100),\n",
    "            ha=\"center\", fontsize=14) \n",
    "ax.set_ylim(0, max(sizes) * 1.15)\n",
    "\n",
    "plt.show()"
   ]
  },
  {
   "cell_type": "code",
   "execution_count": 12,
   "metadata": {
    "execution": {
     "iopub.execute_input": "2022-08-15T21:04:01.138879Z",
     "iopub.status.busy": "2022-08-15T21:04:01.138448Z",
     "iopub.status.idle": "2022-08-15T21:04:02.688944Z",
     "shell.execute_reply": "2022-08-15T21:04:02.688080Z",
     "shell.execute_reply.started": "2022-08-15T21:04:01.138685Z"
    }
   },
   "outputs": [],
   "source": [
    "fig, ax = plt.subplots(2,1, figsize=[15, 12])\n",
    "\n",
    "sns.countplot(data = df_train[df_train['Weekend']==0], x = 'Hour', hue = 'City', ax = ax[0], palette = 'Dark2')\n",
    "ax[0].legend()\n",
    "ax[0].set_title('Count Distribution of Hour by Week days ', fontsize = 22)\n",
    "ax[0].set_xlabel('Hour', fontsize = 18)\n",
    "\n",
    "sns.countplot(data = df_train[df_train['Weekend']==1], x = 'Hour', hue = 'City', ax = ax[1], palette = 'Dark2')\n",
    "ax[1].legend()\n",
    "ax[1].set_title('Count Distribution of Hour by Weekend days', fontsize = 22)\n",
    "ax[1].set_xlabel('Hour', fontsize = 18)\n",
    "\n",
    "plt.subplots_adjust(hspace = 0.3)\n",
    "plt.show()"
   ]
  },
  {
   "cell_type": "code",
   "execution_count": 13,
   "metadata": {
    "execution": {
     "iopub.execute_input": "2022-08-15T21:04:02.690356Z",
     "iopub.status.busy": "2022-08-15T21:04:02.690093Z",
     "iopub.status.idle": "2022-08-15T21:04:03.194656Z",
     "shell.execute_reply": "2022-08-15T21:04:03.193741Z",
     "shell.execute_reply.started": "2022-08-15T21:04:02.690310Z"
    }
   },
   "outputs": [],
   "source": [
    "plt.figure(figsize=(15,6))\n",
    "ax = sns.countplot(x = \"Month\", data = df_train, hue = 'City',palette = 'Dark2')\n",
    "ax.set_title(\"Month Distribution by cities\", fontsize=20)\n",
    "ax.set_ylabel(\"Count\",fontsize= 17)\n",
    "ax.set_xlabel(\"Month\", fontsize=17)\n",
    "plt.show()"
   ]
  },
  {
   "cell_type": "markdown",
   "metadata": {},
   "source": [
    "## 3.6 Latitude/Longitude"
   ]
  },
  {
   "cell_type": "code",
   "execution_count": 14,
   "metadata": {
    "execution": {
     "iopub.execute_input": "2022-08-15T21:04:03.196206Z",
     "iopub.status.busy": "2022-08-15T21:04:03.195919Z",
     "iopub.status.idle": "2022-08-15T21:04:03.651307Z",
     "shell.execute_reply": "2022-08-15T21:04:03.650451Z",
     "shell.execute_reply.started": "2022-08-15T21:04:03.196159Z"
    }
   },
   "outputs": [],
   "source": [
    "'''Visualition of Map Plot of Atlanta city'''\n",
    "import mplleaflet\n",
    "plt.figure(figsize=(10,10))\n",
    "map1 = df_train[df_train['City']=='Atlanta'].groupby(['Latitude', 'Longitude'])['RowId'].count().reset_index()\n",
    "plt.scatter(map1['Longitude'], map1['Latitude'], alpha=0.5)\n",
    "\n",
    "mplleaflet.display()"
   ]
  },
  {
   "cell_type": "code",
   "execution_count": 15,
   "metadata": {
    "execution": {
     "iopub.execute_input": "2022-08-15T21:04:03.653059Z",
     "iopub.status.busy": "2022-08-15T21:04:03.652736Z",
     "iopub.status.idle": "2022-08-15T21:04:04.081770Z",
     "shell.execute_reply": "2022-08-15T21:04:04.080351Z",
     "shell.execute_reply.started": "2022-08-15T21:04:03.653005Z"
    }
   },
   "outputs": [],
   "source": [
    "'''Visualition of Map Plot of Boston city'''\n",
    "plt.figure(figsize=(10,10))\n",
    "map2 = df_train[df_train['City']=='Boston'].groupby(['Latitude', 'Longitude'])['RowId'].count().reset_index()\n",
    "plt.scatter(map2['Longitude'], map2['Latitude'], alpha=0.5)\n",
    "\n",
    "mplleaflet.display()"
   ]
  },
  {
   "cell_type": "code",
   "execution_count": 16,
   "metadata": {
    "execution": {
     "iopub.execute_input": "2022-08-15T21:04:04.083863Z",
     "iopub.status.busy": "2022-08-15T21:04:04.083475Z",
     "iopub.status.idle": "2022-08-15T21:04:04.679444Z",
     "shell.execute_reply": "2022-08-15T21:04:04.677714Z",
     "shell.execute_reply.started": "2022-08-15T21:04:04.083797Z"
    }
   },
   "outputs": [],
   "source": [
    "'''Visualition of Map Plot of Philadelphia city'''\n",
    "plt.figure(figsize=(10,10))\n",
    "map3 = df_train[df_train['City']=='Philadelphia'].groupby(['Latitude', 'Longitude'])['RowId'].count().reset_index()\n",
    "plt.scatter(map3['Longitude'], map3['Latitude'], alpha=0.5)\n",
    "\n",
    "mplleaflet.display()"
   ]
  },
  {
   "cell_type": "code",
   "execution_count": 17,
   "metadata": {
    "execution": {
     "iopub.execute_input": "2022-08-15T21:04:04.681755Z",
     "iopub.status.busy": "2022-08-15T21:04:04.681140Z",
     "iopub.status.idle": "2022-08-15T21:04:06.882947Z",
     "shell.execute_reply": "2022-08-15T21:04:06.881980Z",
     "shell.execute_reply.started": "2022-08-15T21:04:04.681675Z"
    }
   },
   "outputs": [],
   "source": [
    "'''Visualition of Map Plot of Chicago city'''\n",
    "plt.figure(figsize=[10, 10])\n",
    "map4 = df_train[df_train['City']=='Chicago'].groupby(['Latitude', 'Longitude'])['RowId'].count().reset_index()\n",
    "sns.kdeplot(map4['Longitude'], map4['Latitude'])\n",
    "\n",
    "mplleaflet.display()"
   ]
  },
  {
   "cell_type": "markdown",
   "metadata": {},
   "source": [
    "## 3.7 Total Time Stopped\n",
    "In this section, we are going analysis the total time stopped on the intersections in different cities."
   ]
  },
  {
   "cell_type": "markdown",
   "metadata": {},
   "source": [
    "# 4. Feature Engineering\n"
   ]
  },
  {
   "cell_type": "code",
   "execution_count": 18,
   "metadata": {
    "execution": {
     "iopub.execute_input": "2022-08-15T21:04:06.885245Z",
     "iopub.status.busy": "2022-08-15T21:04:06.884904Z",
     "iopub.status.idle": "2022-08-15T21:04:07.951017Z",
     "shell.execute_reply": "2022-08-15T21:04:07.949917Z",
     "shell.execute_reply.started": "2022-08-15T21:04:06.885181Z"
    }
   },
   "outputs": [],
   "source": [
    "fig, ax = plt.subplots(nrows=2, ncols=2)\n",
    "sns.set_style(\"whitegrid\")\n",
    "\n",
    "df_train[df_train['City']=='Atlanta'].groupby('Hour')['TotalTimeStopped_p80'].mean().plot(\n",
    "    ax=ax[0,0],title=\"Atlanda's Total Stoppage Time in Hours\", color='r', figsize=(18,15))\n",
    "\n",
    "df_train[df_train['City']=='Boston'].groupby('Hour')['TotalTimeStopped_p80'].mean().plot(\n",
    "    ax=ax[0,1],title=\"Boston's Total Stoppage Time in Hours\", color='r', figsize=(18,15))\n",
    "\n",
    "\n",
    "df_train[df_train['City']=='Chicago'].groupby('Hour')['TotalTimeStopped_p80'].mean().plot(\n",
    "    ax=ax[1,0],title=\"Chicago's Total Stoppage Time in Hours\", color='r', figsize=(18,15))\n",
    "\n",
    "\n",
    "df_train[df_train['City']=='Philadelphia'].groupby('Hour')['TotalTimeStopped_p80'].mean().plot(\n",
    "    ax=ax[1,1],title=\"Philadelphia's Total Stoppage Time in Hours\", color='r', figsize=(18,15))\n",
    "\n",
    "plt.show()"
   ]
  },
  {
   "cell_type": "markdown",
   "metadata": {},
   "source": [
    "## <span style='color:darkgreen;background:yellow'>4.1. Intersection ID \n",
    "\n",
    "Making a new columns of IntersectionId with city name."
   ]
  },
  {
   "cell_type": "code",
   "execution_count": 19,
   "metadata": {
    "execution": {
     "iopub.execute_input": "2022-08-15T21:04:07.953021Z",
     "iopub.status.busy": "2022-08-15T21:04:07.952577Z",
     "iopub.status.idle": "2022-08-15T21:04:10.506928Z",
     "shell.execute_reply": "2022-08-15T21:04:10.505905Z",
     "shell.execute_reply.started": "2022-08-15T21:04:07.952855Z"
    }
   },
   "outputs": [],
   "source": [
    "df_train['Intersection'] = df_train['IntersectionId'].astype(str) + df_train['City']\n",
    "df_test['Intersection'] = df_test['IntersectionId'].astype(str) + df_test['City']\n",
    "print(df_train['Intersection'].sample(6).values)"
   ]
  },
  {
   "cell_type": "code",
   "execution_count": 20,
   "metadata": {
    "execution": {
     "iopub.execute_input": "2022-08-15T21:04:10.508600Z",
     "iopub.status.busy": "2022-08-15T21:04:10.508338Z",
     "iopub.status.idle": "2022-08-15T21:04:11.611792Z",
     "shell.execute_reply": "2022-08-15T21:04:11.610809Z",
     "shell.execute_reply.started": "2022-08-15T21:04:10.508554Z"
    }
   },
   "outputs": [],
   "source": [
    "from sklearn.preprocessing import LabelEncoder \n",
    "le = LabelEncoder()\n",
    "le.fit(pd.concat([df_train['Intersection'], df_test['Intersection']]).drop_duplicates().values)\n",
    "df_train['Intersection'] = le.transform(df_train['Intersection'])\n",
    "df_test['Intersection'] = le.transform(df_test['Intersection'])\n",
    "print(df_train['Intersection'].sample(6).values)"
   ]
  },
  {
   "cell_type": "markdown",
   "metadata": {},
   "source": [
    "## <span style='color:darkgreen;background:yellow'>4.2. Encoding Street Names \n",
    "We are encode the street name according to its road type. "
   ]
  },
  {
   "cell_type": "code",
   "execution_count": 21,
   "metadata": {
    "execution": {
     "iopub.execute_input": "2022-08-15T21:04:11.613368Z",
     "iopub.status.busy": "2022-08-15T21:04:11.613107Z",
     "iopub.status.idle": "2022-08-15T21:04:11.618403Z",
     "shell.execute_reply": "2022-08-15T21:04:11.616986Z",
     "shell.execute_reply.started": "2022-08-15T21:04:11.613323Z"
    }
   },
   "outputs": [],
   "source": [
    "# Reference: https://www.kaggle.com/bgmello/how-one-percentile-affect-the-others\n",
    "\n",
    "'''Let's use the following road types: Street, Avenue, Road, Boulevard, Broad and Drive'''\n",
    "road_encoding = {\n",
    "    'Road': 1,\n",
    "    'Street': 2,\n",
    "    'Avenue': 2,\n",
    "    'Drive': 3,\n",
    "    'Broad': 3,\n",
    "    'Boulevard': 4\n",
    "}"
   ]
  },
  {
   "cell_type": "code",
   "execution_count": 22,
   "metadata": {
    "execution": {
     "iopub.execute_input": "2022-08-15T21:04:11.620524Z",
     "iopub.status.busy": "2022-08-15T21:04:11.620143Z",
     "iopub.status.idle": "2022-08-15T21:04:11.633117Z",
     "shell.execute_reply": "2022-08-15T21:04:11.632379Z",
     "shell.execute_reply.started": "2022-08-15T21:04:11.620450Z"
    }
   },
   "outputs": [],
   "source": [
    "def encode(x):\n",
    "    if pd.isna(x):\n",
    "        return 0\n",
    "    for road in road_encoding.keys():\n",
    "        if road in x:\n",
    "            return road_encoding[road]\n",
    "        \n",
    "    return 0"
   ]
  },
  {
   "cell_type": "code",
   "execution_count": 23,
   "metadata": {
    "execution": {
     "iopub.execute_input": "2022-08-15T21:04:11.634761Z",
     "iopub.status.busy": "2022-08-15T21:04:11.634302Z",
     "iopub.status.idle": "2022-08-15T21:04:18.472631Z",
     "shell.execute_reply": "2022-08-15T21:04:18.471874Z",
     "shell.execute_reply.started": "2022-08-15T21:04:11.634686Z"
    }
   },
   "outputs": [],
   "source": [
    "df_train['EntryTypeStreet'] = df_train['EntryStreetName'].apply(encode)\n",
    "df_train['ExitTypeStreet'] = df_train['ExitStreetName'].apply(encode)\n",
    "df_test['EntryTypeStreet'] = df_test['EntryStreetName'].apply(encode)\n",
    "df_test['ExitTypeStreent'] = df_test['ExitStreetName'].apply(encode)\n",
    "print(df_train['EntryTypeStreet'].sample(10).values)"
   ]
  },
  {
   "cell_type": "code",
   "execution_count": 24,
   "metadata": {
    "execution": {
     "iopub.execute_input": "2022-08-15T21:04:18.474379Z",
     "iopub.status.busy": "2022-08-15T21:04:18.473924Z",
     "iopub.status.idle": "2022-08-15T21:04:18.743486Z",
     "shell.execute_reply": "2022-08-15T21:04:18.742593Z",
     "shell.execute_reply.started": "2022-08-15T21:04:18.474333Z"
    }
   },
   "outputs": [],
   "source": [
    "df_train[\"same_street_exact\"] = (df_train[\"EntryStreetName\"] ==  df_train[\"ExitStreetName\"]).astype(int)\n",
    "df_test[\"same_street_exact\"] = (df_test[\"EntryStreetName\"] ==  df_test[\"ExitStreetName\"]).astype(int)"
   ]
  },
  {
   "cell_type": "code",
   "execution_count": 25,
   "metadata": {
    "execution": {
     "iopub.execute_input": "2022-08-15T21:04:18.745316Z",
     "iopub.status.busy": "2022-08-15T21:04:18.744833Z",
     "iopub.status.idle": "2022-08-15T21:04:18.749956Z",
     "shell.execute_reply": "2022-08-15T21:04:18.749272Z",
     "shell.execute_reply.started": "2022-08-15T21:04:18.745262Z"
    }
   },
   "outputs": [],
   "source": [
    "'''Defineing the directions'''\n",
    "directions = {\n",
    "    'N': 0,\n",
    "    'NE': 1/4,\n",
    "    'E': 1/2,\n",
    "    'SE': 3/4,\n",
    "    'S': 1,\n",
    "    'SW': 5/4,\n",
    "    'W': 3/2,\n",
    "    'NW': 7/4\n",
    "}"
   ]
  },
  {
   "cell_type": "code",
   "execution_count": 26,
   "metadata": {
    "execution": {
     "iopub.execute_input": "2022-08-15T21:04:18.751607Z",
     "iopub.status.busy": "2022-08-15T21:04:18.751164Z",
     "iopub.status.idle": "2022-08-15T21:04:20.463061Z",
     "shell.execute_reply": "2022-08-15T21:04:20.461806Z",
     "shell.execute_reply.started": "2022-08-15T21:04:18.751562Z"
    }
   },
   "outputs": [],
   "source": [
    "df_train['EntryHeading'] = df_train['EntryHeading'].map(directions)\n",
    "df_train['ExitHeading'] = df_train['ExitHeading'].map(directions)\n",
    "\n",
    "df_test['EntryHeading'] = df_test['EntryHeading'].map(directions)\n",
    "df_test['ExitHeading'] = df_test['ExitHeading'].map(directions)\n",
    "\n",
    "df_train['diffHeading'] = df_train['EntryHeading']- df_train['ExitHeading']  \n",
    "df_test['diffHeading'] = df_test['EntryHeading']- df_test['ExitHeading']\n",
    "\n",
    "display(df_train[['ExitHeading','EntryHeading','diffHeading']].drop_duplicates().head(5))"
   ]
  },
  {
   "cell_type": "code",
   "execution_count": 27,
   "metadata": {
    "execution": {
     "iopub.execute_input": "2022-08-15T21:04:20.464970Z",
     "iopub.status.busy": "2022-08-15T21:04:20.464599Z",
     "iopub.status.idle": "2022-08-15T21:04:20.469601Z",
     "shell.execute_reply": "2022-08-15T21:04:20.468480Z",
     "shell.execute_reply.started": "2022-08-15T21:04:20.464907Z"
    }
   },
   "outputs": [],
   "source": [
    "#def cyclical_encode(data, col, max_val):\n",
    "#    data[col + '_sin'] = np.sin(2 * np.pi * data[col]/max_val)\n",
    "#    data[col + '_cos'] = np.cos(2 * np.pi * data[col]/max_val)\n",
    "#    return data\n",
    "\n",
    "#df_train = cyclical_encode(df_train, 'Hour', 24)\n",
    "#df_test = cyclical_encode(df_test, 'Hour', 24) "
   ]
  },
  {
   "cell_type": "code",
   "execution_count": 28,
   "metadata": {
    "execution": {
     "iopub.execute_input": "2022-08-15T21:04:20.471931Z",
     "iopub.status.busy": "2022-08-15T21:04:20.471393Z",
     "iopub.status.idle": "2022-08-15T21:04:20.479161Z",
     "shell.execute_reply": "2022-08-15T21:04:20.478371Z",
     "shell.execute_reply.started": "2022-08-15T21:04:20.471885Z"
    }
   },
   "outputs": [],
   "source": [
    "#'''One Hot Ecoding of month feature'''\n",
    "#df_train = pd.concat([df_train, pd.get_dummies(df_train['Month'], prefix='Month', drop_first = False)], axis=1)\n",
    "#df_test = pd.concat([df_test, pd.get_dummies(df_test['Month'], prefix='Month', drop_first = False)], axis=1)"
   ]
  },
  {
   "cell_type": "code",
   "execution_count": 29,
   "metadata": {
    "execution": {
     "iopub.execute_input": "2022-08-15T21:04:20.481105Z",
     "iopub.status.busy": "2022-08-15T21:04:20.480581Z",
     "iopub.status.idle": "2022-08-15T21:04:21.375909Z",
     "shell.execute_reply": "2022-08-15T21:04:21.374891Z",
     "shell.execute_reply.started": "2022-08-15T21:04:20.481055Z"
    }
   },
   "outputs": [],
   "source": [
    "'''One Hot Ecoding of City feature'''\n",
    "df_train = pd.concat([df_train, pd.get_dummies(df_train['City'], drop_first = False)], axis=1)\n",
    "df_test = pd.concat([df_test, pd.get_dummies(df_test['City'], drop_first = False)], axis=1)"
   ]
  },
  {
   "cell_type": "code",
   "execution_count": 30,
   "metadata": {
    "execution": {
     "iopub.execute_input": "2022-08-15T21:04:21.377531Z",
     "iopub.status.busy": "2022-08-15T21:04:21.377261Z",
     "iopub.status.idle": "2022-08-15T21:04:23.876860Z",
     "shell.execute_reply": "2022-08-15T21:04:23.876048Z",
     "shell.execute_reply.started": "2022-08-15T21:04:21.377484Z"
    }
   },
   "outputs": [],
   "source": [
    "\"\"\"Adding temperature (°F) of each city by month\"\"\"\n",
    "# Reference: https://www.kaggle.com/dcaichara/feature-engineering-and-lightgbm\n",
    "monthly_avg = {'Atlanta1': 43.0, 'Atlanta5': 68.5, 'Atlanta6': 76.0, 'Atlanta7': 78.0, 'Atlanta8': 78.0, 'Atlanta9': 72.5,\n",
    "              'Atlanta10': 62.0, 'Atlanta11': 52.5, 'Atlanta12': 45.0, 'Boston1': 29.5, 'Boston5': 58.5, 'Boston6': 68.0,\n",
    "              'Boston7': 74.0, 'Boston8': 73.0, 'Boston9': 65.5, 'Boston10': 54.5,'Boston11': 45.0, 'Boston12': 35.0,\n",
    "              'Chicago1': 27.0, 'Chicago5': 59.5, 'Chicago6': 70.0, 'Chicago7': 76.0, 'Chicago8': 75.5, 'Chicago9': 68.0,\n",
    "              'Chicago10': 56.0,  'Chicago11': 44.5, 'Chicago12': 32.0, 'Philadelphia1': 34.5, 'Philadelphia5': 66.0,\n",
    "              'Philadelphia6': 75.5, 'Philadelphia7': 80.5, 'Philadelphia8': 78.5, 'Philadelphia9': 71.5, 'Philadelphia10': 59.5,\n",
    "              'Philadelphia11': 49.0, 'Philadelphia12': 40.0}\n",
    "# Concatenating the city and month into one variable\n",
    "df_train['city_month'] = df_train[\"City\"] + df_train[\"Month\"].astype(str)\n",
    "df_test['city_month'] = df_test[\"City\"] + df_test[\"Month\"].astype(str)\n",
    "\n",
    "# Creating a new column by mapping the city_month variable to it's corresponding average monthly temperature\n",
    "df_train[\"average_temp\"] = df_train['city_month'].map(monthly_avg)\n",
    "df_test[\"average_temp\"] = df_test['city_month'].map(monthly_avg)"
   ]
  },
  {
   "cell_type": "code",
   "execution_count": 31,
   "metadata": {
    "execution": {
     "iopub.execute_input": "2022-08-15T21:04:23.881415Z",
     "iopub.status.busy": "2022-08-15T21:04:23.881120Z",
     "iopub.status.idle": "2022-08-15T21:04:24.150887Z",
     "shell.execute_reply": "2022-08-15T21:04:24.150023Z",
     "shell.execute_reply.started": "2022-08-15T21:04:23.881367Z"
    }
   },
   "outputs": [],
   "source": [
    "\"\"\"Adding rainfall (inches) of each city by month\"\"\"\n",
    "monthly_rainfall = {'Atlanta1': 5.02, 'Atlanta5': 3.95, 'Atlanta6': 3.63, 'Atlanta7': 5.12, 'Atlanta8': 3.67, 'Atlanta9': 4.09,\n",
    "              'Atlanta10': 3.11, 'Atlanta11': 4.10, 'Atlanta12': 3.82, 'Boston1': 3.92, 'Boston5': 3.24, 'Boston6': 3.22,\n",
    "              'Boston7': 3.06, 'Boston8': 3.37, 'Boston9': 3.47, 'Boston10': 3.79,'Boston11': 3.98, 'Boston12': 3.73,\n",
    "              'Chicago1': 1.75, 'Chicago5': 3.38, 'Chicago6': 3.63, 'Chicago7': 3.51, 'Chicago8': 4.62, 'Chicago9': 3.27,\n",
    "              'Chicago10': 2.71,  'Chicago11': 3.01, 'Chicago12': 2.43, 'Philadelphia1': 3.52, 'Philadelphia5': 3.88,\n",
    "              'Philadelphia6': 3.29, 'Philadelphia7': 4.39, 'Philadelphia8': 3.82, 'Philadelphia9':3.88 , 'Philadelphia10': 2.75,\n",
    "              'Philadelphia11': 3.16, 'Philadelphia12': 3.31}\n",
    "# Creating a new column by mapping the city_month variable to it's corresponding average monthly rainfall\n",
    "df_train[\"average_rainfall\"] = df_train['city_month'].map(monthly_rainfall)\n",
    "df_test[\"average_rainfall\"] = df_test['city_month'].map(monthly_rainfall)"
   ]
  },
  {
   "cell_type": "markdown",
   "metadata": {},
   "source": [
    "## <span style='color:darkgreen;background:yellow'>4.5 standardizing of lat-long"
   ]
  },
  {
   "cell_type": "code",
   "execution_count": 32,
   "metadata": {
    "execution": {
     "iopub.execute_input": "2022-08-15T21:04:24.157460Z",
     "iopub.status.busy": "2022-08-15T21:04:24.157011Z",
     "iopub.status.idle": "2022-08-15T21:04:24.294509Z",
     "shell.execute_reply": "2022-08-15T21:04:24.293456Z",
     "shell.execute_reply.started": "2022-08-15T21:04:24.157415Z"
    }
   },
   "outputs": [],
   "source": [
    "from sklearn.preprocessing import StandardScaler\n",
    "scaler = StandardScaler()\n",
    "lat_long = ['Latitude', 'Longitude']\n",
    "for col in lat_long:\n",
    "    df_train[col] = (scaler.fit_transform(df_train[col].values.reshape(-1, 1)))\n",
    "    df_test[col] = (scaler.fit_transform(df_test[col].values.reshape(-1, 1)))"
   ]
  },
  {
   "cell_type": "markdown",
   "metadata": {},
   "source": [
    "## <span style='color:darkgreen;background:yellow'>4.6 Droping the variables "
   ]
  },
  {
   "cell_type": "code",
   "execution_count": 33,
   "metadata": {
    "execution": {
     "iopub.execute_input": "2022-08-15T21:04:24.296996Z",
     "iopub.status.busy": "2022-08-15T21:04:24.296261Z",
     "iopub.status.idle": "2022-08-15T21:04:24.303428Z",
     "shell.execute_reply": "2022-08-15T21:04:24.302273Z",
     "shell.execute_reply.started": "2022-08-15T21:04:24.296505Z"
    }
   },
   "outputs": [],
   "source": [
    "\"\"\"Let's see the columns of data\"\"\"\n",
    "df_train.columns.values"
   ]
  },
  {
   "cell_type": "code",
   "execution_count": 34,
   "metadata": {
    "execution": {
     "iopub.execute_input": "2022-08-15T21:04:24.305647Z",
     "iopub.status.busy": "2022-08-15T21:04:24.305122Z",
     "iopub.status.idle": "2022-08-15T21:04:26.044136Z",
     "shell.execute_reply": "2022-08-15T21:04:26.042923Z",
     "shell.execute_reply.started": "2022-08-15T21:04:24.305587Z"
    }
   },
   "outputs": [],
   "source": [
    "\"\"\"Let's drop the unwanted variables from test and train dataset\"\"\"\n",
    "df_train.drop(['RowId', 'IntersectionId', 'EntryStreetName', 'ExitStreetName', 'Path', 'city_month', 'City'], axis=1, inplace=True)\n",
    "df_test.drop(['RowId', 'IntersectionId', 'EntryStreetName', 'ExitStreetName', 'Path', 'city_month', 'City'], axis=1, inplace=True)"
   ]
  },
  {
   "cell_type": "code",
   "execution_count": 35,
   "metadata": {
    "execution": {
     "iopub.execute_input": "2022-08-15T21:04:26.046061Z",
     "iopub.status.busy": "2022-08-15T21:04:26.045712Z",
     "iopub.status.idle": "2022-08-15T21:04:29.167659Z",
     "shell.execute_reply": "2022-08-15T21:04:29.166981Z",
     "shell.execute_reply.started": "2022-08-15T21:04:26.045999Z"
    }
   },
   "outputs": [],
   "source": [
    "\"\"\"Let’s make a correlation matrix heatmap for the data set.\"\"\"\n",
    "plt.figure(figsize=(18,14))\n",
    "sns.heatmap(df_train.corr(),vmin=-1, vmax=1, center=0,\n",
    "            square=True, cmap = sns.diverging_palette(20, 220, n=200))\n",
    "plt.show()"
   ]
  },
  {
   "cell_type": "markdown",
   "metadata": {},
   "source": [
    "# 5. Seting X and Y"
   ]
  },
  {
   "cell_type": "code",
   "execution_count": 36,
   "metadata": {
    "execution": {
     "iopub.execute_input": "2022-08-15T21:04:29.169344Z",
     "iopub.status.busy": "2022-08-15T21:04:29.168901Z",
     "iopub.status.idle": "2022-08-15T21:04:29.214921Z",
     "shell.execute_reply": "2022-08-15T21:04:29.214173Z",
     "shell.execute_reply.started": "2022-08-15T21:04:29.169299Z"
    }
   },
   "outputs": [],
   "source": [
    "\"\"\"Let's look at our final train and test data for modelling.\"\"\"\n",
    "bold('**Updated train data for modelling:**')\n",
    "display(df_train.head(3))\n",
    "bold('**Updated test data for modelling:**')\n",
    "display(df_test.head(3))"
   ]
  },
  {
   "cell_type": "code",
   "execution_count": 37,
   "metadata": {
    "execution": {
     "iopub.execute_input": "2022-08-15T21:04:29.216619Z",
     "iopub.status.busy": "2022-08-15T21:04:29.216172Z",
     "iopub.status.idle": "2022-08-15T21:04:29.232180Z",
     "shell.execute_reply": "2022-08-15T21:04:29.231164Z",
     "shell.execute_reply.started": "2022-08-15T21:04:29.216574Z"
    }
   },
   "outputs": [],
   "source": [
    "'''Function to reduce the DF size'''\n",
    "# source: https://www.kaggle.com/kernels/scriptcontent/3684066/download\n",
    "\n",
    "def reduce_mem_usage(df):\n",
    "    \"\"\" iterate through all the columns of a dataframe and modify the data type\n",
    "        to reduce memory usage.        \n",
    "    \"\"\"\n",
    "    start_mem = df.memory_usage().sum() / 1024**2\n",
    "    print('Memory usage of dataframe is {:.2f} MB'.format(start_mem))\n",
    "    \n",
    "    for col in df.columns:\n",
    "        col_type = df[col].dtype\n",
    "        \n",
    "        if col_type != object:\n",
    "            c_min = df[col].min()\n",
    "            c_max = df[col].max()\n",
    "            if str(col_type)[:3] == 'int':\n",
    "                if c_min > np.iinfo(np.int8).min and c_max < np.iinfo(np.int8).max:\n",
    "                    df[col] = df[col].astype(np.int8)\n",
    "                elif c_min > np.iinfo(np.int16).min and c_max < np.iinfo(np.int16).max:\n",
    "                    df[col] = df[col].astype(np.int16)\n",
    "                elif c_min > np.iinfo(np.int32).min and c_max < np.iinfo(np.int32).max:\n",
    "                    df[col] = df[col].astype(np.int32)\n",
    "                elif c_min > np.iinfo(np.int64).min and c_max < np.iinfo(np.int64).max:\n",
    "                    df[col] = df[col].astype(np.int64)\n",
    "            else:\n",
    "                if c_min > np.finfo(np.float16).min and c_max < np.finfo(np.float16).max:\n",
    "                    df[col] = df[col].astype(np.float16)\n",
    "                elif c_min > np.finfo(np.float32).min and c_max < np.finfo(np.float32).max:\n",
    "                    df[col] = df[col].astype(np.float32)\n",
    "                else:\n",
    "                    df[col] = df[col].astype(np.float64)\n",
    "        else:\n",
    "            df[col] = df[col].astype('category')\n",
    "\n",
    "    end_mem = df.memory_usage().sum() / 1024**2\n",
    "    print('Memory usage after optimization is: {:.2f} MB'.format(end_mem))\n",
    "    print('Decreased by {:.1f}%'.format(100 * (start_mem - end_mem) / start_mem))\n",
    "    \n",
    "    return df"
   ]
  },
  {
   "cell_type": "code",
   "execution_count": 38,
   "metadata": {
    "execution": {
     "iopub.execute_input": "2022-08-15T21:04:29.234584Z",
     "iopub.status.busy": "2022-08-15T21:04:29.234054Z",
     "iopub.status.idle": "2022-08-15T21:04:30.938505Z",
     "shell.execute_reply": "2022-08-15T21:04:30.937569Z",
     "shell.execute_reply.started": "2022-08-15T21:04:29.234327Z"
    }
   },
   "outputs": [],
   "source": [
    "df_train = reduce_mem_usage(df_train)\n",
    "df_test = reduce_mem_usage(df_test)"
   ]
  },
  {
   "cell_type": "code",
   "execution_count": 39,
   "metadata": {
    "execution": {
     "iopub.execute_input": "2022-08-15T21:04:30.941048Z",
     "iopub.status.busy": "2022-08-15T21:04:30.940343Z",
     "iopub.status.idle": "2022-08-15T21:04:31.065913Z",
     "shell.execute_reply": "2022-08-15T21:04:31.064964Z",
     "shell.execute_reply.started": "2022-08-15T21:04:30.940987Z"
    }
   },
   "outputs": [],
   "source": [
    "'''Seting X and Y'''\n",
    "target_var = df_train.iloc[:, 7:22]\n",
    "X_train = df_train.drop(target_var,axis = 1)\n",
    "\n",
    "y1_train = df_train[\"TotalTimeStopped_p20\"]\n",
    "y2_train = df_train[\"TotalTimeStopped_p50\"]\n",
    "y3_train = df_train[\"TotalTimeStopped_p80\"]\n",
    "y4_train = df_train[\"DistanceToFirstStop_p20\"]\n",
    "y5_train = df_train[\"DistanceToFirstStop_p50\"]\n",
    "y6_train = df_train[\"DistanceToFirstStop_p80\"]\n",
    "\n",
    "X_test = df_test"
   ]
  },
  {
   "cell_type": "code",
   "execution_count": 40,
   "metadata": {
    "execution": {
     "iopub.execute_input": "2022-08-15T21:04:31.067994Z",
     "iopub.status.busy": "2022-08-15T21:04:31.067591Z",
     "iopub.status.idle": "2022-08-15T21:04:31.077445Z",
     "shell.execute_reply": "2022-08-15T21:04:31.076616Z",
     "shell.execute_reply.started": "2022-08-15T21:04:31.067938Z"
    }
   },
   "outputs": [],
   "source": [
    "\"\"\"Let's have a final look at our data\"\"\"\n",
    "bold('**Data Dimension for Model Building:**')\n",
    "print('Input matrix dimension:', X_train.shape)\n",
    "print('Output vector dimension:',y1_train.shape)\n",
    "print('Test data dimension:', X_test.shape)"
   ]
  },
  {
   "cell_type": "markdown",
   "metadata": {},
   "source": [
    "# 6. Model Building & Evaluation"
   ]
  },
  {
   "cell_type": "code",
   "execution_count": 41,
   "metadata": {
    "execution": {
     "iopub.execute_input": "2022-08-15T21:04:31.079410Z",
     "iopub.status.busy": "2022-08-15T21:04:31.078888Z",
     "iopub.status.idle": "2022-08-15T21:04:31.467633Z",
     "shell.execute_reply": "2022-08-15T21:04:31.466873Z",
     "shell.execute_reply.started": "2022-08-15T21:04:31.079355Z"
    }
   },
   "outputs": [],
   "source": [
    "description(X_train)"
   ]
  },
  {
   "cell_type": "code",
   "execution_count": 42,
   "metadata": {
    "execution": {
     "iopub.execute_input": "2022-08-15T21:04:31.469635Z",
     "iopub.status.busy": "2022-08-15T21:04:31.469110Z",
     "iopub.status.idle": "2022-08-15T21:04:31.475881Z",
     "shell.execute_reply": "2022-08-15T21:04:31.474882Z",
     "shell.execute_reply.started": "2022-08-15T21:04:31.469575Z"
    }
   },
   "outputs": [],
   "source": [
    "\"\"\"pecifying categorical features\"\"\"\n",
    "cat_feat = ['Hour', 'Weekend','Month', 'same_street_exact', 'Intersection',\n",
    "       'Atlanta', 'Boston', 'Chicago', 'Philadelphia', 'EntryTypeStreet', 'ExitTypeStreet']"
   ]
  },
  {
   "cell_type": "code",
   "execution_count": 43,
   "metadata": {
    "execution": {
     "iopub.execute_input": "2022-08-15T21:04:31.478215Z",
     "iopub.status.busy": "2022-08-15T21:04:31.477784Z",
     "iopub.status.idle": "2022-08-15T21:04:31.485161Z",
     "shell.execute_reply": "2022-08-15T21:04:31.484310Z",
     "shell.execute_reply.started": "2022-08-15T21:04:31.478145Z"
    }
   },
   "outputs": [],
   "source": [
    "all_preds ={0:[],1:[],2:[],3:[],4:[],5:[]}\n",
    "all_target = [y1_train, y2_train, y3_train, y4_train, y5_train, y6_train]"
   ]
  },
  {
   "cell_type": "code",
   "execution_count": 44,
   "metadata": {
    "execution": {
     "iopub.execute_input": "2022-08-15T21:04:31.486942Z",
     "iopub.status.busy": "2022-08-15T21:04:31.486479Z",
     "iopub.status.idle": "2022-08-15T21:04:31.594506Z",
     "shell.execute_reply": "2022-08-15T21:04:31.593455Z",
     "shell.execute_reply.started": "2022-08-15T21:04:31.486889Z"
    }
   },
   "outputs": [],
   "source": [
    "# Reference: \n",
    "# https://medium.com/analytics-vidhya/hyperparameters-optimization-for-lightgbm-catboost-and-xgboost-regressors-using-bayesian-6e7c495947a9\n",
    "# https://lightgbm.readthedocs.io/en/latest/Parameters-Tuning.html#for-faster-speed\n",
    "\n",
    "'''Importing Libraries'''\n",
    "import lightgbm as lgb\n",
    "from bayes_opt import BayesianOptimization\n",
    "\n",
    "dtrain = lgb.Dataset(data=X_train, label=y1_train)\n",
    "\n",
    "'''Define objective function'''\n",
    "def hyp_lgbm(num_leaves, feature_fraction, bagging_fraction, max_depth, min_split_gain, min_child_weight, lambda_l1, lambda_l2):\n",
    "      \n",
    "        params = {'application':'regression','num_iterations': 400,\n",
    "                  'learning_rate':0.01,\n",
    "                  'metric':'rmse'} # Default parameters\n",
    "        params[\"num_leaves\"] = int(round(num_leaves))\n",
    "        params['feature_fraction'] = max(min(feature_fraction, 1), 0)\n",
    "        params['bagging_fraction'] = max(min(bagging_fraction, 1), 0)\n",
    "        params['max_depth'] = int(round(max_depth))\n",
    "        params['min_split_gain'] = min_split_gain\n",
    "        params['min_child_weight'] = min_child_weight\n",
    "        params['lambda_l1'] = lambda_l1\n",
    "        params['lambda_l2'] = lambda_l2\n",
    "        \n",
    "        cv_results = lgb.cv(params, dtrain, nfold=5, seed=44, categorical_feature=cat_feat, stratified=False,\n",
    "                            verbose_eval =None)\n",
    "#         print(cv_results)\n",
    "        return -np.min(cv_results['rmse-mean'])"
   ]
  },
  {
   "cell_type": "code",
   "execution_count": 45,
   "metadata": {
    "execution": {
     "iopub.execute_input": "2022-08-15T21:04:31.596937Z",
     "iopub.status.busy": "2022-08-15T21:04:31.596313Z",
     "iopub.status.idle": "2022-08-15T21:04:31.604644Z",
     "shell.execute_reply": "2022-08-15T21:04:31.603788Z",
     "shell.execute_reply.started": "2022-08-15T21:04:31.596658Z"
    }
   },
   "outputs": [],
   "source": [
    "''' Define search space of hyperparameters'''\n",
    "pds = {'num_leaves': (100, 230),\n",
    "          'feature_fraction': (0.1, 0.5),\n",
    "          'bagging_fraction': (0.8, 1),\n",
    "          'lambda_l1': (0,3),\n",
    "          'lambda_l2': (0,5),\n",
    "          'max_depth': (8, 19),\n",
    "          'min_split_gain': (0.001, 0.1),\n",
    "          'min_child_weight': (1, 20)\n",
    "        }"
   ]
  },
  {
   "cell_type": "code",
   "execution_count": 46,
   "metadata": {
    "execution": {
     "iopub.execute_input": "2022-08-15T21:04:31.607247Z",
     "iopub.status.busy": "2022-08-15T21:04:31.606485Z",
     "iopub.status.idle": "2022-08-15T21:28:30.360583Z",
     "shell.execute_reply": "2022-08-15T21:28:30.359674Z",
     "shell.execute_reply.started": "2022-08-15T21:04:31.607173Z"
    }
   },
   "outputs": [],
   "source": [
    "'''Define a surrogate model of the objective function and call it.'''\n",
    "optimizer = BayesianOptimization(hyp_lgbm,pds,random_state=44)\n",
    "                                  \n",
    "# Optimize\n",
    "optimizer.maximize(init_points=5, n_iter=12)"
   ]
  },
  {
   "cell_type": "markdown",
   "metadata": {},
   "source": [
    "## 6.1 Retrain and Predict Using Optimized Hyperparameters"
   ]
  },
  {
   "cell_type": "code",
   "execution_count": 47,
   "metadata": {
    "execution": {
     "iopub.execute_input": "2022-08-15T21:28:30.362497Z",
     "iopub.status.busy": "2022-08-15T21:28:30.362184Z",
     "iopub.status.idle": "2022-08-15T21:28:30.369110Z",
     "shell.execute_reply": "2022-08-15T21:28:30.368236Z",
     "shell.execute_reply.started": "2022-08-15T21:28:30.362435Z"
    }
   },
   "outputs": [],
   "source": [
    "'''Best parameters after optimization'''\n",
    "optimizer.max"
   ]
  },
  {
   "cell_type": "code",
   "execution_count": 48,
   "metadata": {
    "execution": {
     "iopub.execute_input": "2022-08-15T21:28:30.371301Z",
     "iopub.status.busy": "2022-08-15T21:28:30.370941Z",
     "iopub.status.idle": "2022-08-15T21:28:30.382632Z",
     "shell.execute_reply": "2022-08-15T21:28:30.381297Z",
     "shell.execute_reply.started": "2022-08-15T21:28:30.371240Z"
    }
   },
   "outputs": [],
   "source": [
    "p = optimizer.max['params']\n",
    "param = {'num_leaves': int(round(p['num_leaves'])),\n",
    "         'feature_fraction': p['feature_fraction'],\n",
    "         'bagging_fraction': p['bagging_fraction'],\n",
    "         'max_depth': int(round(p['max_depth'])),\n",
    "         'lambda_l1': p['lambda_l1'],\n",
    "         'lambda_l2':p['lambda_l2'],\n",
    "         'min_split_gain': p['min_split_gain'],\n",
    "         'min_child_weight': p['min_child_weight'],\n",
    "         'learing_rate':0.05,\n",
    "         'objective': 'regression',\n",
    "         'boosting_type': 'gbdt',\n",
    "         'verbose': 1,\n",
    "         'seed': 44,\n",
    "         'metric': 'rmse'\n",
    "        }\n",
    "param"
   ]
  },
  {
   "cell_type": "code",
   "execution_count": 49,
   "metadata": {
    "execution": {
     "iopub.execute_input": "2022-08-15T21:28:30.386847Z",
     "iopub.status.busy": "2022-08-15T21:28:30.385257Z",
     "iopub.status.idle": "2022-08-15T21:58:00.578683Z",
     "shell.execute_reply": "2022-08-15T21:58:00.577672Z",
     "shell.execute_reply.started": "2022-08-15T21:28:30.385524Z"
    }
   },
   "outputs": [],
   "source": [
    "'''Instantiate the models with optimized hyperparameters.'''\n",
    "train = X_train \n",
    "test = X_test \n",
    "from sklearn.model_selection import train_test_split\n",
    "\n",
    "for i in range(len(all_preds)):\n",
    "    print('Training and predicting for target {}'.format(i+1))\n",
    "    X_train,X_test,y_train,y_test=train_test_split(train,all_target[i], test_size=0.2, random_state=31)\n",
    "    xg_train = lgb.Dataset(X_train,\n",
    "                           label = y_train\n",
    "                           )\n",
    "    xg_valid = lgb.Dataset(X_test,\n",
    "                           label = y_test\n",
    "                           )\n",
    "    clf = lgb.train(param, xg_train, 10000, valid_sets = [xg_valid],categorical_feature=cat_feat,\n",
    "                         verbose_eval=100, early_stopping_rounds = 200)\n",
    "    all_preds[i] = clf.predict(test, num_iteration=clf.best_iteration)"
   ]
  },
  {
   "cell_type": "code",
   "execution_count": 50,
   "metadata": {
    "execution": {
     "iopub.execute_input": "2022-08-15T21:58:00.581511Z",
     "iopub.status.busy": "2022-08-15T21:58:00.580766Z",
     "iopub.status.idle": "2022-08-15T21:58:08.097636Z",
     "shell.execute_reply": "2022-08-15T21:58:08.096822Z",
     "shell.execute_reply.started": "2022-08-15T21:58:00.581439Z"
    }
   },
   "outputs": [],
   "source": [
    "submission = pd.read_csv('../input/bigquery-geotab-intersection-congestion/sample_submission.csv')\n",
    "#submission.head()"
   ]
  },
  {
   "cell_type": "code",
   "execution_count": 51,
   "metadata": {
    "execution": {
     "iopub.execute_input": "2022-08-15T21:58:08.101230Z",
     "iopub.status.busy": "2022-08-15T21:58:08.100920Z",
     "iopub.status.idle": "2022-08-15T21:58:08.687668Z",
     "shell.execute_reply": "2022-08-15T21:58:08.686874Z",
     "shell.execute_reply.started": "2022-08-15T21:58:08.101187Z"
    }
   },
   "outputs": [],
   "source": [
    "dt = pd.DataFrame(all_preds).stack()\n",
    "dt = pd.DataFrame(dt)\n",
    "dt = dt[0:11522010]\n",
    "submission['Target'] = dt[0].values"
   ]
  },
  {
   "cell_type": "code",
   "execution_count": 52,
   "metadata": {
    "execution": {
     "iopub.execute_input": "2022-08-15T21:58:08.694246Z",
     "iopub.status.busy": "2022-08-15T21:58:08.692184Z",
     "iopub.status.idle": "2022-08-15T21:58:08.706957Z",
     "shell.execute_reply": "2022-08-15T21:58:08.705851Z",
     "shell.execute_reply.started": "2022-08-15T21:58:08.694179Z"
    }
   },
   "outputs": [],
   "source": [
    "submission.head()"
   ]
  },
  {
   "cell_type": "code",
   "execution_count": 53,
   "metadata": {
    "execution": {
     "iopub.execute_input": "2022-08-15T21:58:08.709702Z",
     "iopub.status.busy": "2022-08-15T21:58:08.709179Z",
     "iopub.status.idle": "2022-08-15T21:58:44.817734Z",
     "shell.execute_reply": "2022-08-15T21:58:44.816544Z",
     "shell.execute_reply.started": "2022-08-15T21:58:08.709649Z"
    }
   },
   "outputs": [],
   "source": [
    "submission.to_csv('lgbm2_submission.csv', index=False)"
   ]
  }
 ],
 "metadata": {
  "kernelspec": {
   "display_name": "Python 3",
   "language": "python",
   "name": "python3"
  },
  "language_info": {
   "codemirror_mode": {
    "name": "ipython",
    "version": 3
   },
   "file_extension": ".py",
   "mimetype": "text/x-python",
   "name": "python",
   "nbconvert_exporter": "python",
   "pygments_lexer": "ipython3",
   "version": "3.6.6"
  }
 },
 "nbformat": 4,
 "nbformat_minor": 4
}
